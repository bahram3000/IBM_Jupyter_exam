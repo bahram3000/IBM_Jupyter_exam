{
 "cells": [
  {
   "cell_type": "markdown",
   "id": "24f0a08a",
   "metadata": {
    "pycharm": {
     "name": ""
    }
   },
   "source": [
    "# Data Science Tools and Ecosystem"
   ]
  },
  {
   "cell_type": "markdown",
   "id": "4c56a132",
   "metadata": {},
   "source": [
    "In this notebook, Data Science Tools and Ecosystem are summarized."
   ]
  },
  {
   "cell_type": "markdown",
   "id": "46381472",
   "metadata": {},
   "source": [
    "Some of the popular languages that Data Scientists use are:\n",
    "1. python\n",
    "2. R\n",
    "3. java\n",
    "4. julia\n",
    "5. c++"
   ]
  },
  {
   "cell_type": "markdown",
   "id": "edeb779b",
   "metadata": {},
   "source": [
    "Some of the commonly used libraries used by Data Scientists include:\n",
    "1. numpy \n",
    "2. pandas\n",
    "3. matplotlib\n",
    "4. scikit-learn\n",
    "5. Tensorflow\n",
    "6. keras\n",
    "7. dplyr\n",
    "8. ggplot\n",
    "9. caret"
   ]
  },
  {
   "cell_type": "code",
   "execution_count": null,
   "id": "a14a0b4d",
   "metadata": {},
   "outputs": [],
   "source": []
  }
 ],
 "metadata": {
  "kernelspec": {
   "display_name": "Python 3 (ipykernel)",
   "language": "python",
   "name": "python3"
  },
  "language_info": {
   "codemirror_mode": {
    "name": "ipython",
    "version": 3
   },
   "file_extension": ".py",
   "mimetype": "text/x-python",
   "name": "python",
   "nbconvert_exporter": "python",
   "pygments_lexer": "ipython3",
   "version": "3.10.5"
  }
 },
 "nbformat": 4,
 "nbformat_minor": 5
}
