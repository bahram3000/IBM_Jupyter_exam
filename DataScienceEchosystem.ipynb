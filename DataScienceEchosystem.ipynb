{
 "cells": [
  {
   "cell_type": "markdown",
   "id": "ac68289c",
   "metadata": {
    "pycharm": {
     "name": ""
    }
   },
   "source": [
    "# Data Science Tools and Ecosystem"
   ]
  },
  {
   "cell_type": "markdown",
   "id": "815138bb",
   "metadata": {},
   "source": [
    "In this notebook, Data Science Tools and Ecosystem are summarized."
   ]
  },
  {
   "cell_type": "markdown",
   "id": "910c5e14",
   "metadata": {},
   "source": [
    "Some of the popular languages that Data Scientists use are:\n",
    "1. python\n",
    "2. R\n",
    "3. java\n",
    "4. julia\n",
    "5. c++"
   ]
  },
  {
   "cell_type": "markdown",
   "id": "21ea1a2f",
   "metadata": {},
   "source": [
    "Some of the commonly used libraries used by Data Scientists include:\n",
    "1. numpy \n",
    "2. pandas\n",
    "3. matplotlib\n",
    "4. scikit-learn\n",
    "5. Tensorflow\n",
    "6. keras\n",
    "7. dplyr\n",
    "8. ggplot\n",
    "9. caret"
   ]
  },
  {
   "cell_type": "markdown",
   "id": "8327c383",
   "metadata": {},
   "source": [
    "Data Science Tools:\n",
    "Open source development environment tools commonly used in data science:\n",
    "\n",
    "1. Jupyter Notebook - An open-source web-based interactive computational environment that supports multiple programming languages including Python, R, Julia and Scala. Used for data cleaning, transformation, visualization and analysis.\n",
    "\n",
    "2. RStudio - An integrated development environment (IDE) specifically designed for the R programming language. Used for statistical analysis, plotting and model building. Provides tools for debugging, workspace management, plotting, and markdown reports.\n",
    "\n",
    "3. Apache Zeppelin - An open source analytics notebook that supports data ingestion, SQL queries, data visualization and machine learning in one web-based interface. Supports languages like Python, R, Scala and SQL.\n",
    "\n",
    "Some other notable open source data science environments are:\n",
    "\n",
    "- Spyder IDE for Python\n",
    "- Visual Studio Code\n",
    "- Atom\n",
    "- Git for version control\n",
    "- Orange data mining toolbox\n",
    "\n",
    "So in summary, Jupyter Notebook, RStudio and Apache Zeppelin are three major open source tools for doing data science work in a productive notebook style interface."
   ]
  },
  {
   "cell_type": "code",
   "execution_count": null,
   "id": "4cb0bc92",
   "metadata": {},
   "outputs": [],
   "source": []
  }
 ],
 "metadata": {
  "kernelspec": {
   "display_name": "Python 3 (ipykernel)",
   "language": "python",
   "name": "python3"
  },
  "language_info": {
   "codemirror_mode": {
    "name": "ipython",
    "version": 3
   },
   "file_extension": ".py",
   "mimetype": "text/x-python",
   "name": "python",
   "nbconvert_exporter": "python",
   "pygments_lexer": "ipython3",
   "version": "3.10.5"
  }
 },
 "nbformat": 4,
 "nbformat_minor": 5
}
