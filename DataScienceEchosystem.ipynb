{
 "cells": [
  {
   "cell_type": "markdown",
   "id": "9ee527a7",
   "metadata": {
    "pycharm": {
     "name": ""
    }
   },
   "source": [
    "# Data Science Tools and Ecosystem"
   ]
  },
  {
   "cell_type": "markdown",
   "id": "d8af0a54",
   "metadata": {},
   "source": [
    "In this notebook, Data Science Tools and Ecosystem are summarized."
   ]
  },
  {
   "cell_type": "markdown",
   "id": "1192840d",
   "metadata": {},
   "source": [
    "Some of the popular languages that Data Scientists use are:\n",
    "1. python\n",
    "2. R\n",
    "3. java\n",
    "4. julia\n",
    "5. c++"
   ]
  },
  {
   "cell_type": "markdown",
   "id": "0db374ad",
   "metadata": {},
   "source": [
    "Some of the commonly used libraries used by Data Scientists include:\n",
    "1. numpy \n",
    "2. pandas\n",
    "3. matplotlib\n",
    "4. scikit-learn\n",
    "5. Tensorflow\n",
    "6. keras\n",
    "7. dplyr\n",
    "8. ggplot\n",
    "9. caret"
   ]
  },
  {
   "cell_type": "markdown",
   "id": "61370b81",
   "metadata": {},
   "source": [
    "Open source development environment tools commonly used in data science:\n",
    "\n",
    "1. Jupyter Notebook - An open-source web-based interactive computational environment that supports multiple programming languages including Python, R, Julia and Scala. Used for data cleaning, transformation, visualization and analysis.\n",
    "\n",
    "2. RStudio - An integrated development environment (IDE) specifically designed for the R programming language. Used for statistical analysis, plotting and model building. Provides tools for debugging, workspace management, plotting, and markdown reports.\n",
    "\n",
    "3. Apache Zeppelin - An open source analytics notebook that supports data ingestion, SQL queries, data visualization and machine learning in one web-based interface. Supports languages like Python, R, Scala and SQL.\n",
    "\n",
    "Some other notable open source data science environments are:\n",
    "\n",
    "- Spyder IDE for Python\n",
    "- Visual Studio Code\n",
    "- Atom\n",
    "- Git for version control\n",
    "- Orange data mining toolbox\n",
    "\n",
    "So in summary, Jupyter Notebook, RStudio and Apache Zeppelin are three major open source tools for doing data science work in a productive notebook style interface."
   ]
  },
  {
   "cell_type": "markdown",
   "id": "4387a467",
   "metadata": {},
   "source": [
    "### Below are a few examples of evaluating arithmetic expressions in Python"
   ]
  },
  {
   "cell_type": "code",
   "execution_count": 2,
   "id": "0fd2fbd4",
   "metadata": {},
   "outputs": [
    {
     "data": {
      "text/plain": [
       "17"
      ]
     },
     "execution_count": 2,
     "metadata": {},
     "output_type": "execute_result"
    }
   ],
   "source": [
    "(3*4)+5\n",
    "# This a simple arithmetic expression to mutiply then add integers"
   ]
  },
  {
   "cell_type": "code",
   "execution_count": null,
   "id": "e5ce529f",
   "metadata": {},
   "outputs": [],
   "source": []
  }
 ],
 "metadata": {
  "kernelspec": {
   "display_name": "Python 3 (ipykernel)",
   "language": "python",
   "name": "python3"
  },
  "language_info": {
   "codemirror_mode": {
    "name": "ipython",
    "version": 3
   },
   "file_extension": ".py",
   "mimetype": "text/x-python",
   "name": "python",
   "nbconvert_exporter": "python",
   "pygments_lexer": "ipython3",
   "version": "3.10.5"
  }
 },
 "nbformat": 4,
 "nbformat_minor": 5
}
