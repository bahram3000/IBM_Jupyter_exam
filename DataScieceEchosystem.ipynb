{
 "cells": [
  {
   "cell_type": "markdown",
   "id": "730b305d",
   "metadata": {},
   "source": [
    "![](https://skills.network/logos/SN_web_lightmode.svg)"
   ]
  },
  {
   "cell_type": "markdown",
   "id": "0b93114a",
   "metadata": {},
   "source": [
    "# Data Science Tools and Ecosystem"
   ]
  },
  {
   "cell_type": "markdown",
   "id": "e31082c1",
   "metadata": {},
   "source": [
    "In this notebook, Data Science Tools and Ecosystem are summarized."
   ]
  },
  {
   "cell_type": "markdown",
   "id": "4eac087a",
   "metadata": {},
   "source": [
    "#### objective:\n",
    "This notebook coverd this items:\n",
    "- some of popular language fo datascience\n",
    "- some of library\n",
    "- simple example of python excute code\n",
    "- and ..."
   ]
  },
  {
   "cell_type": "markdown",
   "id": "b080d80c",
   "metadata": {},
   "source": [
    "Some of the popular languages that Data Scientists use are:\n",
    "1. python\n",
    "2. R\n",
    "3. java\n",
    "4. julia\n",
    "5. c++\n",
    "6. c\n",
    "7. javascript"
   ]
  },
  {
   "cell_type": "markdown",
   "id": "d4b0ebe1",
   "metadata": {},
   "source": [
    "Some of the commonly used libraries used by Data Scientists include:\n",
    "1. numpy \n",
    "2. pandas\n",
    "3. matplotlib\n",
    "4. scikit-learn\n",
    "5. Tensorflow\n",
    "6. keras\n",
    "7. dplyr\n",
    "8. ggplot\n",
    "9. caret\n",
    "10. scrapy\n",
    "11. beautifulsoup\n",
    "12. sqlite"
   ]
  },
  {
   "cell_type": "markdown",
   "id": "b18ab973",
   "metadata": {},
   "source": [
    "|Open source development environment tools commonly used in data science |\n",
    "|---|\n",
    "|upyter Notebook| \n",
    "|RStudio| \n",
    "|Apache Zeppelin| "
   ]
  },
  {
   "cell_type": "markdown",
   "id": "83d071b0",
   "metadata": {},
   "source": [
    "|Some other notable open source data science environments are |\n",
    "|---|\n",
    "|Spyder IDE for Python|\n",
    "|Visual Studio Code|\n",
    "|Atom|\n",
    "|Git for version control|\n",
    "|Orange data mining toolbox|"
   ]
  },
  {
   "cell_type": "markdown",
   "id": "c2eb6935",
   "metadata": {},
   "source": [
    "### Below are a few examples of evaluating arithmetic expressions in Python"
   ]
  },
  {
   "cell_type": "code",
   "execution_count": 1,
   "id": "7f9efde3",
   "metadata": {},
   "outputs": [
    {
     "data": {
      "text/plain": [
       "17"
      ]
     },
     "execution_count": 1,
     "metadata": {},
     "output_type": "execute_result"
    }
   ],
   "source": [
    "# This a simple arithmetic expression to mutiply then add integers\n",
    "(3*4)+5"
   ]
  },
  {
   "cell_type": "code",
   "execution_count": 4,
   "id": "9a8e14b5",
   "metadata": {},
   "outputs": [
    {
     "name": "stdout",
     "output_type": "stream",
     "text": [
      "hour is = 3 \n",
      " also minutes = 20 \n",
      " it means time ; 3 : 20\n"
     ]
    }
   ],
   "source": [
    "# This will convert 200 minutes to hours by diving by 60\n",
    "# we can use int(input(\"Enter the minutes :\")) for give num of min from users\n",
    "int(200/60)\n",
    "print(\"hour is =\",int(200/60),\"\\n\",\"also minutes =\",200%60,\"\\n\",'it means time ;',(int(200/60)),\":\",200%60)"
   ]
  },
  {
   "cell_type": "markdown",
   "id": "291d1752",
   "metadata": {},
   "source": [
    "## Author(s)\n",
    "[BahramPapakiKashani](www.linkedin.com/in/bahram-papaki-kashani-711099232)"
   ]
  },
  {
   "cell_type": "code",
   "execution_count": null,
   "id": "32cb48df",
   "metadata": {},
   "outputs": [],
   "source": []
  }
 ],
 "metadata": {
  "kernelspec": {
   "display_name": "Python 3 (ipykernel)",
   "language": "python",
   "name": "python3"
  },
  "language_info": {
   "codemirror_mode": {
    "name": "ipython",
    "version": 3
   },
   "file_extension": ".py",
   "mimetype": "text/x-python",
   "name": "python",
   "nbconvert_exporter": "python",
   "pygments_lexer": "ipython3",
   "version": "3.10.5"
  }
 },
 "nbformat": 4,
 "nbformat_minor": 5
}
