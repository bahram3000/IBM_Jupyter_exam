{
 "cells": [
  {
   "cell_type": "markdown",
   "id": "27c794b0",
   "metadata": {},
   "source": [
    "![](https://skills.network/logos/SN_web_lightmode.svg)"
   ]
  },
  {
   "cell_type": "markdown",
   "id": "9e9b7f06",
   "metadata": {},
   "source": [
    "# Data Science Tools and Ecosystem"
   ]
  },
  {
   "cell_type": "markdown",
   "id": "28b1239f",
   "metadata": {},
   "source": [
    "In this notebook, Data Science Tools and Ecosystem are summarized."
   ]
  },
  {
   "cell_type": "markdown",
   "id": "23eecfc5",
   "metadata": {},
   "source": [
    "#### objective:\n",
    "This notebook coverd this items:\n",
    "- some of popular language fo datascience\n",
    "- some of library\n",
    "- simple example of python excute code\n",
    "- and ..."
   ]
  },
  {
   "cell_type": "markdown",
   "id": "53d86fde",
   "metadata": {},
   "source": [
    "Some of the popular languages that Data Scientists use are:\n",
    "1. python\n",
    "2. R\n",
    "3. java\n",
    "4. julia\n",
    "5. c++\n",
    "6. c\n",
    "7. javascript"
   ]
  },
  {
   "cell_type": "markdown",
   "id": "cb90f11f",
   "metadata": {},
   "source": [
    "Some of the commonly used libraries used by Data Scientists include:\n",
    "1. numpy \n",
    "2. pandas\n",
    "3. matplotlib\n",
    "4. scikit-learn\n",
    "5. Tensorflow\n",
    "6. keras\n",
    "7. dplyr\n",
    "8. ggplot\n",
    "9. caret\n",
    "10. scrapy\n",
    "11. beautifulsoup\n",
    "12. sqlite"
   ]
  },
  {
   "cell_type": "markdown",
   "id": "18522b17",
   "metadata": {},
   "source": [
    "Open source development environment tools commonly used in data science:\n",
    "\n",
    "1. Jupyter Notebook \n",
    "\n",
    "2. RStudio \n",
    "\n",
    "3. Apache Zeppelin \n",
    "\n",
    "Some other notable open source data science environments are:\n",
    "\n",
    "- Spyder IDE for Python\n",
    "- Visual Studio Code\n",
    "- Atom\n",
    "- Git for version control\n",
    "- Orange data mining toolbox"
   ]
  },
  {
   "cell_type": "markdown",
   "id": "5b9c1012",
   "metadata": {},
   "source": [
    "### Below are a few examples of evaluating arithmetic expressions in Python"
   ]
  },
  {
   "cell_type": "code",
   "execution_count": 1,
   "id": "dc6b0a13",
   "metadata": {},
   "outputs": [
    {
     "data": {
      "text/plain": [
       "17"
      ]
     },
     "execution_count": 1,
     "metadata": {},
     "output_type": "execute_result"
    }
   ],
   "source": [
    "# This a simple arithmetic expression to mutiply then add integers\n",
    "(3*4)+5"
   ]
  },
  {
   "cell_type": "code",
   "execution_count": 4,
   "id": "8ea4f1ce",
   "metadata": {},
   "outputs": [
    {
     "name": "stdout",
     "output_type": "stream",
     "text": [
      "hour is = 3 \n",
      " also minutes = 20 \n",
      " it means time ; 3 : 20\n"
     ]
    }
   ],
   "source": [
    "# This will convert 200 minutes to hours by diving by 60\n",
    "# we can use int(input(\"Enter the minutes :\")) for give num of min from users\n",
    "int(200/60)\n",
    "print(\"hour is =\",int(200/60),\"\\n\",\"also minutes =\",200%60,\"\\n\",'it means time ;',(int(200/60)),\":\",200%60)"
   ]
  },
  {
   "cell_type": "markdown",
   "id": "0c7f0eeb",
   "metadata": {},
   "source": [
    "## Author(s)\n",
    "[BahramPapakiKashani](www.linkedin.com/in/bahram-papaki-kashani-711099232)"
   ]
  },
  {
   "cell_type": "code",
   "execution_count": null,
   "id": "771067cf",
   "metadata": {},
   "outputs": [],
   "source": []
  }
 ],
 "metadata": {
  "kernelspec": {
   "display_name": "Python 3 (ipykernel)",
   "language": "python",
   "name": "python3"
  },
  "language_info": {
   "codemirror_mode": {
    "name": "ipython",
    "version": 3
   },
   "file_extension": ".py",
   "mimetype": "text/x-python",
   "name": "python",
   "nbconvert_exporter": "python",
   "pygments_lexer": "ipython3",
   "version": "3.10.5"
  }
 },
 "nbformat": 4,
 "nbformat_minor": 5
}
