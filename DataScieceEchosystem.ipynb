{
 "cells": [
  {
   "cell_type": "markdown",
   "id": "53a29d98",
   "metadata": {},
   "source": [
    "![](https://skills.network/logos/SN_web_lightmode.svg)"
   ]
  },
  {
   "cell_type": "code",
   "execution_count": null,
   "id": "0c0d425b",
   "metadata": {},
   "outputs": [],
   "source": []
  }
 ],
 "metadata": {
  "kernelspec": {
   "display_name": "Python 3 (ipykernel)",
   "language": "python",
   "name": "python3"
  },
  "language_info": {
   "codemirror_mode": {
    "name": "ipython",
    "version": 3
   },
   "file_extension": ".py",
   "mimetype": "text/x-python",
   "name": "python",
   "nbconvert_exporter": "python",
   "pygments_lexer": "ipython3",
   "version": "3.10.5"
  }
 },
 "nbformat": 4,
 "nbformat_minor": 5
}
